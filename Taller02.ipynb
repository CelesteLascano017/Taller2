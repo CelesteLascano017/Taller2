{
 "cells": [
  {
   "cell_type": "markdown",
   "id": "836998e0",
   "metadata": {},
   "source": [
    "# Taller 02 \n",
    "\n",
    "## Cálculo de raíces"
   ]
  },
  {
   "cell_type": "markdown",
   "id": "b72264f5",
   "metadata": {},
   "source": [
    "### Ejercicio 1\n",
    "\n",
    "Encontrar todas las raíces del polinomio: $x^4 + 540x^3 + 109124x^2 + 9{,}781{,}632x + 328{,}188{,}672 = 0$\n",
    "\n",
    "Librerías que se van a usar para el taller."
   ]
  },
  {
   "cell_type": "code",
   "execution_count": 64,
   "id": "6c058e0b",
   "metadata": {},
   "outputs": [],
   "source": [
    "\n",
    "import numpy as np\n",
    "import math\n",
    "\n",
    "\n",
    "import sympy as sp\n",
    "\n",
    "\n",
    "import matplotlib.pyplot as plt\n"
   ]
  },
  {
   "cell_type": "markdown",
   "id": "11539422",
   "metadata": {},
   "source": [
    "\n",
    "Polinomio:\n",
    "\n",
    "$$p(x)=x^4 + 540x^3 + 109124x^2 + 9781632x + 328188672.$$\n",
    "\n"
   ]
  },
  {
   "cell_type": "markdown",
   "id": "838bf01b",
   "metadata": {},
   "source": [
    "Voy a definir una lista con los coeficientes del polinomio y luego usar la función np.roots para calcular las raíces del polinomio."
   ]
  },
  {
   "cell_type": "code",
   "execution_count": 65,
   "id": "5ebfa931",
   "metadata": {},
   "outputs": [
    {
     "data": {
      "text/plain": [
       "array([-152.+0.00000000e+00j, -136.+0.00000000e+00j,\n",
       "       -126.+2.60889445e-05j, -126.-2.60889445e-05j])"
      ]
     },
     "execution_count": 65,
     "metadata": {},
     "output_type": "execute_result"
    }
   ],
   "source": [
    "\n",
    "coef = [1, 540, 109124, 9781632, 328188672]\n",
    "\n",
    "roots = np.roots(coef)\n",
    "roots"
   ]
  },
  {
   "cell_type": "markdown",
   "id": "71428c39",
   "metadata": {},
   "source": [
    "Ahora voy hacer una función que me devuelva la función polinomica del ejercicio. El código toma cada raíz que encontró antes y la mete en la función del polinomio para comprobar si realmente da 0. Si todo está bien, los resultados serán 0 o un número muy pequeño, por los pequeños errores que ocurren cuando la computadora hace cálculos con decimales. "
   ]
  },
  {
   "cell_type": "code",
   "execution_count": 66,
   "id": "838a2f7b",
   "metadata": {},
   "outputs": [
    {
     "data": {
      "text/plain": [
       "[(-2.384185791015625e-07+0j),\n",
       " (-1.1920928955078125e-07+0j),\n",
       " 1.1368683772161603e-13j,\n",
       " -1.1368683772161603e-13j]"
      ]
     },
     "execution_count": 66,
     "metadata": {},
     "output_type": "execute_result"
    }
   ],
   "source": [
    "\n",
    "def p(x):\n",
    "    return ((x**4) + 540*(x**3) + 109124*(x**2) + 9781632*x + 328188672)\n",
    "\n",
    "vals = [p(r) for r in roots]\n",
    "list(map(lambda z: complex(z), vals))"
   ]
  },
  {
   "cell_type": "markdown",
   "id": "ef46c701",
   "metadata": {},
   "source": [
    "### Ejercicio 2\n",
    "\n",
    "Intersección de la curva $(y/2)^2 = ((x+3)/2)^2 - 1$ con la recta $y=-2$\n",
    "\n",
    "\n",
    "\n",
    "$$\\left(\\tfrac{-2}{2}\\right)^2 = \\left(\\tfrac{x+3}{2}\\right)^2 - 1\n",
    "\\Rightarrow 1 = \\frac{(x+3)^2}{4} - 1\\Rightarrow 2 = \\frac{(x+3)^2}{4}\\Rightarrow (x+3)^2 = 8\\Rightarrow x = -3 \\pm 2\\sqrt{2}.$$\n",
    "\n",
    "Los puntos son: $(-3-2\\sqrt{2}, -2)$ y $(-3+2\\sqrt{2}, -2)$."
   ]
  },
  {
   "cell_type": "markdown",
   "id": "c248ff70",
   "metadata": {},
   "source": [
    "Aquí definí una ecuación simbólica para encontrar el valor de x que la cumple.\n",
    "Luego, convertí las soluciones a números decimales (float) para mostrarlas de forma más legible"
   ]
  },
  {
   "cell_type": "code",
   "execution_count": 53,
   "id": "2a6d0dc0",
   "metadata": {},
   "outputs": [
    {
     "data": {
      "text/plain": [
       "([-5.82842712474619, -0.171572875253810],\n",
       " [-5.82842712474619, -0.1715728752538099])"
      ]
     },
     "execution_count": 53,
     "metadata": {},
     "output_type": "execute_result"
    }
   ],
   "source": [
    "x = sp.symbols('x', real=True)\n",
    "sol = sp.solve(sp.Eq(((-2)/2)**2, ((x+3)/2)**2 - 1), x)\n",
    "sol, [float(s) for s in sol]"
   ]
  },
  {
   "cell_type": "markdown",
   "id": "16ce2f63",
   "metadata": {},
   "source": [
    "### Ejercicio 3\n",
    "\n",
    "Para $f(x)=\\frac{\\sin x}{x}$, hallar un $x_T$ tal que $f(x)<0.015$ para todo $x\\ge x_T$\n"
   ]
  },
  {
   "cell_type": "markdown",
   "id": "7fb66570",
   "metadata": {},
   "source": [
    "Defino una función $ f(x) = \\frac{\\sin(x)}{x} $ que retorna 1 cuando $ x = 0 $.  \n",
    "Luego genero muchos valores de \\( x \\) y calculo sus correspondientes valores de \\( f(x) \\) para analizar su comportamiento.  \n",
    "Finalmente, busco el primer punto donde la función se vuelve menor que un valor límite (*threshold*) y guardo ese \\( x \\) como resultado.\n"
   ]
  },
  {
   "cell_type": "code",
   "execution_count": 63,
   "id": "681ded3a",
   "metadata": {},
   "outputs": [
    {
     "data": {
      "text/plain": [
       "np.float64(64.69676983849192)"
      ]
     },
     "execution_count": 63,
     "metadata": {},
     "output_type": "execute_result"
    }
   ],
   "source": [
    "def f(x):\n",
    "    return 1.0 if x == 0 else (math.sin(x)/x)\n",
    "\n",
    "xs = np.linspace(0.1, 1000, 20000)  \n",
    "ys = np.sin(xs)/xs\n",
    "threshold = 0.015\n",
    "\n",
    "idx_T = None\n",
    "for i in range(len(xs)):\n",
    "    if np.all(ys[i:] < threshold):\n",
    "        idx_T = i\n",
    "        break\n",
    "\n",
    "x_T = xs[idx_T] if idx_T is not None else None\n",
    "x_T"
   ]
  },
  {
   "cell_type": "markdown",
   "id": "941a3ab4",
   "metadata": {},
   "source": [
    "Esta línea verifica si todos los valores de $ \\frac{\\sin(x)}{x} $ desde idx_T en adelante son menores que *0.015* y devuelve True o False según el resultado.\n"
   ]
  },
  {
   "cell_type": "code",
   "execution_count": 61,
   "id": "373e6002",
   "metadata": {},
   "outputs": [
    {
     "data": {
      "text/plain": [
       "True"
      ]
     },
     "execution_count": 61,
     "metadata": {},
     "output_type": "execute_result"
    }
   ],
   "source": [
    "\n",
    "bool(np.all((np.sin(xs)/xs)[idx_T:] < 0.015))"
   ]
  },
  {
   "cell_type": "code",
   "execution_count": 62,
   "id": "09f18a27",
   "metadata": {},
   "outputs": [
    {
     "data": {
      "image/png": "[encoded data removed]",
      "text/plain": [
       "<Figure size 700x400 with 1 Axes>"
      ]
     },
     "metadata": {},
     "output_type": "display_data"
    }
   ],
   "source": [
    "# Gráfico para visualizar\n",
    "plt.figure(figsize=(7,4))\n",
    "plt.plot(xs, ys, label='sin(x)/x')\n",
    "plt.axhline(0.015, linestyle='--', label='0.015')\n",
    "if x_T is not None:\n",
    "    plt.axvline(x_T, linestyle='--', label=f'x_T ≈ {x_T:.2f}')\n",
    "plt.xlabel('x')\n",
    "plt.ylabel('f(x)')\n",
    "plt.title('Buscando x_T tal que f(x) < 0.015 para todo x ≥ x_T')\n",
    "plt.legend()\n",
    "plt.show()\n"
   ]
  },
  {
   "cell_type": "markdown",
   "id": "40989991",
   "metadata": {},
   "source": []
  }
 ],
 "metadata": {
  "kernelspec": {
   "display_name": "base",
   "language": "python",
   "name": "python3"
  },
  "language_info": {
   "codemirror_mode": {
    "name": "ipython",
    "version": 3
   },
   "file_extension": ".py",
   "mimetype": "text/x-python",
   "name": "python",
   "nbconvert_exporter": "python",
   "pygments_lexer": "ipython3",
   "version": "3.13.5"
  }
 },
 "nbformat": 4,
 "nbformat_minor": 5
}
